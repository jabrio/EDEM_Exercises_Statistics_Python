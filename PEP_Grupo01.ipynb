{
  "nbformat": 4,
  "nbformat_minor": 0,
  "metadata": {
    "colab": {
      "name": "PEP_Grupo01.ipynb",
      "provenance": [],
      "collapsed_sections": [],
      "toc_visible": true,
      "authorship_tag": "ABX9TyNlQck22sUUs9fnCSRpU0Je",
      "include_colab_link": true
    },
    "kernelspec": {
      "name": "python3",
      "display_name": "Python 3"
    }
  },
  "cells": [
    {
      "cell_type": "markdown",
      "metadata": {
        "id": "view-in-github",
        "colab_type": "text"
      },
      "source": [
        "<a href=\"https://colab.research.google.com/github/jabrio/EDEM_Exercises_Statistics_Python/blob/main/PEP_Grupo01.ipynb\" target=\"_parent\"><img src=\"https://colab.research.google.com/assets/colab-badge.svg\" alt=\"Open In Colab\"/></a>"
      ]
    },
    {
      "cell_type": "markdown",
      "metadata": {
        "id": "x3ycDsEB2D-_"
      },
      "source": [
        "#Programación estadística en Python_Grupo 01\n",
        "#####En este notebook, realizaremos los ejercicios de la asignatura de Programación estadística en Python de EDEM."
      ]
    },
    {
      "cell_type": "markdown",
      "metadata": {
        "id": "qWHVPUsJ2wiX"
      },
      "source": [
        "##TAREA 01: IMPORTAR UN DATASET DE KAGGLE Y DESCRIBIR SUS VARIABLES\n",
        "####En esta primera tarea, deberemos descargar un archivo .csv de kaggle y describir sus variables, haciendo hincapié en su variable *Target*.\n",
        "\n"
      ]
    },
    {
      "cell_type": "markdown",
      "metadata": {
        "id": "pegXhbVT3K-Q"
      },
      "source": [
        "##Variables a evaluar:\n",
        "\n",
        "1.   Análisis de la demanda: Meses.\n",
        "2.   Análisis de la demanda: Perfil del usuario.\n",
        "3.   Análisis de la demanda: Vías de reserva.\n",
        "4.   Ratio de cancelación.\n",
        "5.   Relación cancelación/antelación reserva efectuada.\n",
        "6.   Relación perfil usuario/cancelación.\n",
        "7.   Relación perfil usuario/reserva de parking.\n",
        "8.   Relación perfil usuario/mes reserva.\n"
      ]
    },
    {
      "cell_type": "markdown",
      "metadata": {
        "id": "PXLFUw9T4ov8"
      },
      "source": [
        "### PASO 0_IMPORTAR"
      ]
    },
    {
      "cell_type": "code",
      "metadata": {
        "id": "1IL0mrEk6Wza"
      },
      "source": [
        "import os\n",
        "import pandas as pd \n",
        "import  numpy as np\n",
        "import matplotlib.pyplot as plt"
      ],
      "execution_count": 2,
      "outputs": []
    },
    {
      "cell_type": "code",
      "metadata": {
        "id": "rqA0zXgJ--qI"
      },
      "source": [
        "df = pd.read_csv(\"https://raw.githubusercontent.com/guadme/grupo_pep/main/booking_modified.csv\")"
      ],
      "execution_count": 101,
      "outputs": []
    },
    {
      "cell_type": "code",
      "metadata": {
        "id": "Qp6W2ezVB8KR",
        "outputId": "8326b17a-8ad1-42d6-b4ae-2df1f5399638",
        "colab": {
          "base_uri": "https://localhost:8080/"
        }
      },
      "source": [
        "df.shape\n",
        "df.head\n",
        "df.tail"
      ],
      "execution_count": 12,
      "outputs": [
        {
          "output_type": "execute_result",
          "data": {
            "text/plain": [
              "<bound method NDFrame.tail of         Unnamed: 0         hotel  ...  arrival_date_month_num  Arrival_date\n",
              "0                0  Resort Hotel  ...                     7.0    2015-07-01\n",
              "1                1  Resort Hotel  ...                     7.0    2015-07-01\n",
              "2                2  Resort Hotel  ...                     7.0    2015-07-01\n",
              "3                3  Resort Hotel  ...                     7.0    2015-07-01\n",
              "4                4  Resort Hotel  ...                     7.0    2015-07-01\n",
              "...            ...           ...  ...                     ...           ...\n",
              "119385      119385    City Hotel  ...                     8.0    2017-08-30\n",
              "119386      119386    City Hotel  ...                     8.0    2017-08-31\n",
              "119387      119387    City Hotel  ...                     8.0    2017-08-31\n",
              "119388      119388    City Hotel  ...                     8.0    2017-08-31\n",
              "119389      119389    City Hotel  ...                     8.0    2017-08-29\n",
              "\n",
              "[119390 rows x 35 columns]>"
            ]
          },
          "metadata": {
            "tags": []
          },
          "execution_count": 12
        }
      ]
    },
    {
      "cell_type": "markdown",
      "metadata": {
        "id": "8yPhmLPeCGV5"
      },
      "source": [
        "QUALITY CONTROL OK"
      ]
    },
    {
      "cell_type": "markdown",
      "metadata": {
        "id": "DUZJdJRICMyn"
      },
      "source": [
        "PASO 1. ANÁLISIS DE LA DEMANDA:MESES\n",
        "\n",
        "#####En este primer apartado, vamos a proceder al análisis de la demanda de hotel, en relación a lo meses del año. Así, veremos la época del año en la que se produce mayor número de reservas. Esta variable, la relacionaremos con la media y la desviación típica."
      ]
    },
    {
      "cell_type": "code",
      "metadata": {
        "id": "lxCIwFokDPxS",
        "outputId": "3c7a5ed5-b056-47a7-c5ec-9cb689bf6440",
        "colab": {
          "base_uri": "https://localhost:8080/"
        }
      },
      "source": [
        "df.groupby([\"arrival_date_month\"]).size()"
      ],
      "execution_count": 13,
      "outputs": [
        {
          "output_type": "execute_result",
          "data": {
            "text/plain": [
              "arrival_date_month\n",
              "April        11089\n",
              "August       13877\n",
              "December      6780\n",
              "February      8068\n",
              "January       5929\n",
              "July         12661\n",
              "June         10939\n",
              "March         9794\n",
              "May          11791\n",
              "November      6794\n",
              "October      11160\n",
              "September    10508\n",
              "dtype: int64"
            ]
          },
          "metadata": {
            "tags": []
          },
          "execution_count": 13
        }
      ]
    },
    {
      "cell_type": "markdown",
      "metadata": {
        "id": "TO4iB6TvDS95"
      },
      "source": [
        "#####Como no aparece ordenado por orden cronológico, procedemos a realizar esta operación."
      ]
    },
    {
      "cell_type": "code",
      "metadata": {
        "id": "ni-Z9aaVDfnr"
      },
      "source": [
        "from pandas.api.types import CategoricalDtype\n",
        "\n",
        "month_list=[\"January\", \"February\", \"March\", \"April\", \"May\", \"June\", \"July\", \"August\", \"September\", \"October\", \"November\", \"December\"]\n",
        "orden_meses= CategoricalDtype(categories=month_list, ordered=True)\n",
        "df [\"month_new\"]=df.arrival_date_month.astype(orden_meses)"
      ],
      "execution_count": 146,
      "outputs": []
    },
    {
      "cell_type": "code",
      "metadata": {
        "id": "yzvErxtNDyPU",
        "outputId": "5fa18a5e-0f78-45aa-9737-95e995fc6e32",
        "colab": {
          "base_uri": "https://localhost:8080/"
        }
      },
      "source": [
        "df.groupby([\"month_new\"]).size()"
      ],
      "execution_count": 15,
      "outputs": [
        {
          "output_type": "execute_result",
          "data": {
            "text/plain": [
              "month_new\n",
              "January       5929\n",
              "February      8068\n",
              "March         9794\n",
              "April        11089\n",
              "May          11791\n",
              "June         10939\n",
              "July         12661\n",
              "August       13877\n",
              "September    10508\n",
              "October      11160\n",
              "November      6794\n",
              "December      6780\n",
              "dtype: int64"
            ]
          },
          "metadata": {
            "tags": []
          },
          "execution_count": 15
        }
      ]
    },
    {
      "cell_type": "code",
      "metadata": {
        "id": "Z2vLKUpYDawQ",
        "outputId": "985969a6-3673-49c9-dd9d-07383170bb72",
        "colab": {
          "base_uri": "https://localhost:8080/",
          "height": 298
        }
      },
      "source": [
        "month_new=df.groupby([\"month_new\"]).size()\n",
        "month_bar=[\"Jan\", \"Feb\", \"Mar\", \"Apr\", \"May\", \"Jun\", \"Jul\", \"Aug\", \"Sep\", \"Oct\", \"Nov\", \"Dec\"]\n",
        "plt.bar(month_bar, month_new, edgecolor=\"Black\")\n",
        "plt.title(\"Figura 01. Número clientes/mes\")\n",
        "plt.ylabel(\"Frecuencia\")"
      ],
      "execution_count": 21,
      "outputs": [
        {
          "output_type": "execute_result",
          "data": {
            "text/plain": [
              "Text(0, 0.5, 'Frecuencia')"
            ]
          },
          "metadata": {
            "tags": []
          },
          "execution_count": 21
        },
        {
          "output_type": "display_data",
          "data": {
            "image/png": "[encoded data removed]",
            "text/plain": [
              "<Figure size 432x288 with 1 Axes>"
            ]
          },
          "metadata": {
            "tags": [],
            "needs_background": "light"
          }
        }
      ]
    },
    {
      "cell_type": "markdown",
      "metadata": {
        "id": "sKPm0WxaE9jz"
      },
      "source": [
        "####Procedemos al análisis de variables cuantitativas."
      ]
    },
    {
      "cell_type": "code",
      "metadata": {
        "id": "FWoYDdl2FBuI",
        "outputId": "9d62317a-2408-4bfa-e1cf-f691350a5ddb",
        "colab": {
          "base_uri": "https://localhost:8080/"
        }
      },
      "source": [
        "month_new.describe()"
      ],
      "execution_count": 22,
      "outputs": [
        {
          "output_type": "execute_result",
          "data": {
            "text/plain": [
              "count       12.000000\n",
              "mean      9949.166667\n",
              "std       2521.813303\n",
              "min       5929.000000\n",
              "25%       7749.500000\n",
              "50%      10723.500000\n",
              "75%      11317.750000\n",
              "max      13877.000000\n",
              "dtype: float64"
            ]
          },
          "metadata": {
            "tags": []
          },
          "execution_count": 22
        }
      ]
    },
    {
      "cell_type": "code",
      "metadata": {
        "id": "cKZGSCvlFKMD"
      },
      "source": [
        "M=month_new.mean()\n",
        "S=month_new.std()\n",
        "c1=M-S\n",
        "c2=M+S"
      ],
      "execution_count": 23,
      "outputs": []
    },
    {
      "cell_type": "markdown",
      "metadata": {
        "id": "75sdFdD6FXtE"
      },
      "source": [
        "####Dibujamos la gráfica"
      ]
    },
    {
      "cell_type": "code",
      "metadata": {
        "id": "vuAaGDFpFbML",
        "outputId": "de07e5da-bf36-461b-af5d-c045a1d7b990",
        "colab": {
          "base_uri": "https://localhost:8080/",
          "height": 298
        }
      },
      "source": [
        "plt.bar(month_bar, month_new, edgecolor=\"Black\")\n",
        "plt.title(\"Figura 01. Número clientes/mes\")\n",
        "plt.ylabel(\"Frecuencia\")\n",
        "\n",
        "plt.axhline(y=M,\n",
        "            linewidth=1,\n",
        "            linestyle=\"dashed\",\n",
        "            Color=\"red\",\n",
        "            label=\"Mean\")\n",
        "\n",
        "plt.axhline(y=M+S,\n",
        "            linewidth=1,\n",
        "            linestyle=\"dashed\",\n",
        "            Color=\"Green\",\n",
        "            label=\"SD\")\n",
        "\n",
        "plt.axhline(y=M-S,\n",
        "            linewidth=1,\n",
        "            linestyle=\"dashed\",\n",
        "            Color=\"Green\",\n",
        "            label=\"SD\")\n",
        "\n",
        "text1=\"Mean\"\n",
        "text2=\"+ S.D\"\n",
        "text3=\"- S.D\"\n",
        "\n",
        "plt.text(10.5,10500,text1)\n",
        "plt.text(10.5,8000,text3)\n",
        "plt.text(10.5,13000,text2)\n",
        "\n",
        "n=month_new.sum()\n",
        "props=dict(boxstyle=\"round\", facecolor=\"white\", lw=0.5)\n",
        "text4=\"n=119390\"\n",
        "plt.text(-0.50,13200,text4, bbox=props)"
      ],
      "execution_count": 26,
      "outputs": [
        {
          "output_type": "execute_result",
          "data": {
            "text/plain": [
              "Text(-0.5, 13200, 'n=119390')"
            ]
          },
          "metadata": {
            "tags": []
          },
          "execution_count": 26
        },
        {
          "output_type": "display_data",
          "data": {
            "image/png": "[encoded data removed]",
            "text/plain": [
              "<Figure size 432x288 with 1 Axes>"
            ]
          },
          "metadata": {
            "tags": [],
            "needs_background": "light"
          }
        }
      ]
    },
    {
      "cell_type": "markdown",
      "metadata": {
        "id": "CISYr1zlGPhJ"
      },
      "source": [
        "PASO 2. ANÁLISIS DE LA DEMANDA:PERFIL USUARIO\n",
        "\n",
        "#####Para definir el perfil de usuario, clasificaremos, según el gasto realizado en el hotel (adr), 3 tipologías de cliente:\n",
        "\n",
        "\n",
        "*   Low customer\n",
        "*   Average customer\n",
        "*   High customer\n"
      ]
    },
    {
      "cell_type": "code",
      "metadata": {
        "id": "Fw76wcAVJAJL",
        "outputId": "9f1fce4f-93ed-4ab6-f346-88c90df0865c",
        "colab": {
          "base_uri": "https://localhost:8080/"
        }
      },
      "source": [
        "df.groupby([\"adr\"]).size()"
      ],
      "execution_count": 33,
      "outputs": [
        {
          "output_type": "execute_result",
          "data": {
            "text/plain": [
              "adr\n",
              "-6.38          1\n",
              " 0.00       1959\n",
              " 0.26          1\n",
              " 0.50          1\n",
              " 1.00         15\n",
              "            ... \n",
              " 450.00        1\n",
              " 451.50        1\n",
              " 508.00        1\n",
              " 510.00        1\n",
              " 5400.00       1\n",
              "Length: 8879, dtype: int64"
            ]
          },
          "metadata": {
            "tags": []
          },
          "execution_count": 33
        }
      ]
    },
    {
      "cell_type": "code",
      "metadata": {
        "id": "uTwV5T3xH3Af",
        "outputId": "86c8eb5d-2d4d-4a0d-bb33-69809526f5fb",
        "colab": {
          "base_uri": "https://localhost:8080/",
          "height": 367
        }
      },
      "source": [
        "adr.describe()\n",
        "plt.hist(adr)"
      ],
      "execution_count": 47,
      "outputs": [
        {
          "output_type": "execute_result",
          "data": {
            "text/plain": [
              "(array([8.825e+03, 3.300e+01, 8.000e+00, 2.000e+00, 5.000e+00, 2.000e+00,\n",
              "        2.000e+00, 1.000e+00, 0.000e+00, 1.000e+00]),\n",
              " array([1.0000e+00, 3.7630e+02, 7.5160e+02, 1.1269e+03, 1.5022e+03,\n",
              "        1.8775e+03, 2.2528e+03, 2.6281e+03, 3.0034e+03, 3.3787e+03,\n",
              "        3.7540e+03]),\n",
              " <a list of 10 Patch objects>)"
            ]
          },
          "metadata": {
            "tags": []
          },
          "execution_count": 47
        },
        {
          "output_type": "display_data",
          "data": {
            "image/png": "[encoded data removed]",
            "text/plain": [
              "<Figure size 432x288 with 1 Axes>"
            ]
          },
          "metadata": {
            "tags": [],
            "needs_background": "light"
          }
        }
      ]
    },
    {
      "cell_type": "markdown",
      "metadata": {
        "id": "knaMPR7dIHw5"
      },
      "source": [
        "####Eliminaremos los valores de 0 al no ser representativos. Además, como podemos ver, existe un valor muy alejado del resto que suprimiremos."
      ]
    },
    {
      "cell_type": "code",
      "metadata": {
        "id": "m0R68L_MNrCU",
        "outputId": "0e9a06f2-9b4d-430a-f833-cd3214b8dc0d",
        "colab": {
          "base_uri": "https://localhost:8080/"
        }
      },
      "source": [
        "df [\"Spending\"]=df.adr.replace((0,5400),np.nan)\n",
        "df.groupby([\"Spending\"]).size()"
      ],
      "execution_count": 106,
      "outputs": [
        {
          "output_type": "execute_result",
          "data": {
            "text/plain": [
              "Spending\n",
              "-6.38       1\n",
              " 0.26       1\n",
              " 0.50       1\n",
              " 1.00      15\n",
              " 1.29       1\n",
              "           ..\n",
              " 437.00     1\n",
              " 450.00     1\n",
              " 451.50     1\n",
              " 508.00     1\n",
              " 510.00     1\n",
              "Length: 8877, dtype: int64"
            ]
          },
          "metadata": {
            "tags": []
          },
          "execution_count": 106
        }
      ]
    },
    {
      "cell_type": "code",
      "metadata": {
        "id": "o-IQSXY1MUQZ"
      },
      "source": [
        "df_01=df.Spending.dropna()"
      ],
      "execution_count": 104,
      "outputs": []
    },
    {
      "cell_type": "code",
      "metadata": {
        "id": "PGk1mHQ9PdWI",
        "outputId": "ccc7d07b-ce90-49d9-fba0-a43a8bbe6d1d",
        "colab": {
          "base_uri": "https://localhost:8080/",
          "height": 312
        }
      },
      "source": [
        "A=df.groupby([\"Spending\"]).size()\n",
        "plt.hist(A,edgecolor=\"Black\")\n",
        "plt.title(\"Typologies of customers\")\n",
        "plt.xlabel(\"Average ticket\")\n",
        "plt.ylabel(\"Frecuency (Customers)\")\n",
        "M1=df.Spending.mean()\n",
        "S1=df.Spending.std()\n",
        "\n",
        "c3=M1-S1\n",
        "c4=M1+S1\n",
        "\n",
        "plt.axvline(x=M1,\n",
        "            linewidth=1,\n",
        "            linestyle=\"dashed\",\n",
        "            Color=\"red\",\n",
        "            label=\"Mean\")\n",
        "\n",
        "plt.axvline(x=c3,\n",
        "            linewidth=1,\n",
        "            linestyle=\"dashed\",\n",
        "            Color=\"Orange\",\n",
        "            label=\"SD\")\n",
        "\n",
        "plt.axvline(x=c4,\n",
        "            linewidth=1,\n",
        "            linestyle=\"dashed\",\n",
        "            Color=\"Orange\",\n",
        "            label=\"SD\")"
      ],
      "execution_count": 112,
      "outputs": [
        {
          "output_type": "execute_result",
          "data": {
            "text/plain": [
              "<matplotlib.lines.Line2D at 0x7f36c00b18d0>"
            ]
          },
          "metadata": {
            "tags": []
          },
          "execution_count": 112
        },
        {
          "output_type": "display_data",
          "data": {
            "image/png": "[encoded data removed]",
            "text/plain": [
              "<Figure size 432x288 with 1 Axes>"
            ]
          },
          "metadata": {
            "tags": [],
            "needs_background": "light"
          }
        }
      ]
    },
    {
      "cell_type": "markdown",
      "metadata": {
        "id": "AXfPC8nzQjg-"
      },
      "source": [
        "#####Por tanto, c3 y c4 serán los puntos de corte que nos ayudarán a clasificar los distintos tipos de cliente."
      ]
    },
    {
      "cell_type": "code",
      "metadata": {
        "id": "yK8VMVoVQsKf",
        "outputId": "8ae8941d-d940-4a42-9426-304c53586d5c",
        "colab": {
          "base_uri": "https://localhost:8080/"
        }
      },
      "source": [
        "df.loc[(df[\"Spending\"]<c3),\"SP\"]=\"Low customer\"\n",
        "df.loc[((df[\"Spending\"]>=c3)& (df[\"Spending\"]<c4)),\"SP\"]=\"Average customer\"\n",
        "df.loc[(df[\"Spending\"]>=c4),\"SP\"]=\"High customer\"\n",
        "df.SP.dropna()"
      ],
      "execution_count": 114,
      "outputs": [
        {
          "output_type": "execute_result",
          "data": {
            "text/plain": [
              "2         Average customer\n",
              "3         Average customer\n",
              "4         Average customer\n",
              "5         Average customer\n",
              "6         Average customer\n",
              "                ...       \n",
              "119385    Average customer\n",
              "119386       High customer\n",
              "119387       High customer\n",
              "119388    Average customer\n",
              "119389       High customer\n",
              "Name: SP, Length: 117430, dtype: object"
            ]
          },
          "metadata": {
            "tags": []
          },
          "execution_count": 114
        }
      ]
    },
    {
      "cell_type": "markdown",
      "metadata": {
        "id": "IuSODhBQRCMo"
      },
      "source": [
        "#####Establecemos los porcentajes y dibujamos la gráfica (teniendo en cuenta que hay que modificar el orden, ya que no nos interesa un orden alfabético).\n"
      ]
    },
    {
      "cell_type": "code",
      "metadata": {
        "id": "hFdvF2rMRHww",
        "outputId": "c1cef6b1-bea3-4a18-a14e-81df58606ce1",
        "colab": {
          "base_uri": "https://localhost:8080/",
          "height": 400
        }
      },
      "source": [
        "mytable=df.groupby([\"SP\"]).size()\n",
        "print(mytable)\n",
        "n=mytable.sum()\n",
        "print(n)\n",
        "mytable_A=(mytable/n)*100\n",
        "bar_list=[\"Low customer\", \"Average customer\", \"High customer\"]\n",
        "from pandas.api.types import CategoricalDtype\n",
        "order_new= CategoricalDtype(categories=bar_list, ordered=True)\n",
        "df[\"order_new\"]=df.SP.astype(order_new)\n",
        "order_new=df.groupby([\"order_new\"]).size()\n",
        "\n",
        "plt.bar(bar_list,order_new,edgecolor=\"Black\")\n",
        "plt.title(\"Figure 02. Typologies of customers.\")"
      ],
      "execution_count": 116,
      "outputs": [
        {
          "output_type": "stream",
          "text": [
            "SP\n",
            "Average customer    87810\n",
            "High customer       16497\n",
            "Low customer        13123\n",
            "dtype: int64\n",
            "117430\n"
          ],
          "name": "stdout"
        },
        {
          "output_type": "execute_result",
          "data": {
            "text/plain": [
              "Text(0.5, 1.0, 'Figure 02. Typologies of customers.')"
            ]
          },
          "metadata": {
            "tags": []
          },
          "execution_count": 116
        },
        {
          "output_type": "display_data",
          "data": {
            "image/png": "[encoded data removed]",
            "text/plain": [
              "<Figure size 432x288 with 1 Axes>"
            ]
          },
          "metadata": {
            "tags": [],
            "needs_background": "light"
          }
        }
      ]
    },
    {
      "cell_type": "markdown",
      "metadata": {
        "id": "q04KtS-VR4eU"
      },
      "source": [
        "PASO 3. ANÁLISIS DE LA DEMANDA:VÍAS DE RESERVA.\n",
        "\n",
        "#####En este apartado, nos interesa saber cuál es el canal de captación de nuestros clientes:cómo nos contactan."
      ]
    },
    {
      "cell_type": "code",
      "metadata": {
        "id": "MaDhWk3mSHa-",
        "outputId": "3ed02d85-f293-4f37-9e47-20185fd76de9",
        "colab": {
          "base_uri": "https://localhost:8080/"
        }
      },
      "source": [
        "df.groupby([\"market_segment\"]).size()\n",
        "mytable_G=df.groupby([\"market_segment\"]).size()\n",
        "nG=mytable_G.sum()\n",
        "mytable_G1=(mytable_G/nG)*100\n",
        "print(mytable_G1)\n",
        "G2=df.groupby([\"market_segment\"]).size()\n",
        "print(G2)"
      ],
      "execution_count": 118,
      "outputs": [
        {
          "output_type": "stream",
          "text": [
            "market_segment\n",
            "Aviation          0.198509\n",
            "Complementary     0.622330\n",
            "Corporate         4.435045\n",
            "Direct           10.558673\n",
            "Groups           16.593517\n",
            "Offline TA/TO    20.285619\n",
            "Online TA        47.304632\n",
            "Undefined         0.001675\n",
            "dtype: float64\n",
            "market_segment\n",
            "Aviation           237\n",
            "Complementary      743\n",
            "Corporate         5295\n",
            "Direct           12606\n",
            "Groups           19811\n",
            "Offline TA/TO    24219\n",
            "Online TA        56477\n",
            "Undefined            2\n",
            "dtype: int64\n"
          ],
          "name": "stdout"
        }
      ]
    },
    {
      "cell_type": "markdown",
      "metadata": {
        "id": "H4U1a6IfSfLJ"
      },
      "source": [
        "#####Debido al pequeño porcentaje de algunos de los nombres, agruparemos las minoritarias en un nuevo grupo denominado \"others\"."
      ]
    },
    {
      "cell_type": "code",
      "metadata": {
        "id": "pna-pqmLSqnq",
        "outputId": "d7721794-7ac1-42bb-eff9-9af3a033291f",
        "colab": {
          "base_uri": "https://localhost:8080/"
        }
      },
      "source": [
        "df.loc[(df[\"market_segment\"]==\"Aviation\"),\"market_segment\"]=\"Others\"\n",
        "df.loc[(df[\"market_segment\"]==\"Complementary\"),\"market_segment\"]=\"Others\"\n",
        "df.loc[(df[\"market_segment\"]==\"Undefined\"),\"market_segment\"]=\"Others\"\n",
        "B=df.groupby([\"market_segment\"]).size()\n",
        "print(B)"
      ],
      "execution_count": 123,
      "outputs": [
        {
          "output_type": "stream",
          "text": [
            "market_segment\n",
            "Corporate         5295\n",
            "Direct           12606\n",
            "Groups           19811\n",
            "Offline TA/TO    24219\n",
            "Online TA        56477\n",
            "Others             982\n",
            "dtype: int64\n"
          ],
          "name": "stdout"
        }
      ]
    },
    {
      "cell_type": "markdown",
      "metadata": {
        "id": "ZTgPwu8TTGua"
      },
      "source": [
        "#####Procedemos a dibujar la gráfica.\n"
      ]
    },
    {
      "cell_type": "code",
      "metadata": {
        "id": "nsRB9Ig7TKuV",
        "outputId": "1c86cc4f-a184-40e9-b451-8778f1cddb89",
        "colab": {
          "base_uri": "https://localhost:8080/",
          "height": 282
        }
      },
      "source": [
        "from matplotlib import colors\n",
        "from matplotlib import cm\n",
        "normdata = colors.Normalize(min(B), max(B))\n",
        "colormap = cm.get_cmap(\"Blues\")\n",
        "colores =colormap(normdata(B))\n",
        "G2_List=[\"Corporate\",\"Direct\",\"Groups\",\"Offline TA/TO\",\"Online TA\", \"Others\"]\n",
        "desfase=(0.05,0.05,0.05,0.05,0.1,0.05)\n",
        "plt.pie(B, labels=G2_List, autopct=\"%0.1f %%\", colors=colores, explode=desfase)\n",
        "plt.title(\"Figure 05. Market Segment\")"
      ],
      "execution_count": 126,
      "outputs": [
        {
          "output_type": "execute_result",
          "data": {
            "text/plain": [
              "Text(0.5, 1.0, 'Figure 05. Market Segment')"
            ]
          },
          "metadata": {
            "tags": []
          },
          "execution_count": 126
        },
        {
          "output_type": "display_data",
          "data": {
            "image/png": "[encoded data removed]",
            "text/plain": [
              "<Figure size 432x288 with 1 Axes>"
            ]
          },
          "metadata": {
            "tags": []
          }
        }
      ]
    },
    {
      "cell_type": "markdown",
      "metadata": {
        "id": "7oObllCVUxCP"
      },
      "source": [
        "#####Ahora, analizaremos que tipología de cliente viene por cada tipo de vía."
      ]
    },
    {
      "cell_type": "code",
      "metadata": {
        "id": "K6etrDNfUlJb",
        "outputId": "2fad75f6-a2ab-4874-8e75-e6523d3757f7",
        "colab": {
          "base_uri": "https://localhost:8080/",
          "height": 384
        }
      },
      "source": [
        "df.rename(columns={\"SP\":\"Typologies of customers\"},inplace=True)\n",
        "pd.crosstab(df.market_segment,columns=df[\"Typologies of customers\"]). plot(kind=\"bar\",title=\"Figure 06. Relationship between customer type \\nand ways of reservation\", stacked=True)"
      ],
      "execution_count": 128,
      "outputs": [
        {
          "output_type": "execute_result",
          "data": {
            "text/plain": [
              "<matplotlib.axes._subplots.AxesSubplot at 0x7f36be9cb7f0>"
            ]
          },
          "metadata": {
            "tags": []
          },
          "execution_count": 128
        },
        {
          "output_type": "display_data",
          "data": {
            "image/png": "[encoded data removed]",
            "text/plain": [
              "<Figure size 432x288 with 1 Axes>"
            ]
          },
          "metadata": {
            "tags": [],
            "needs_background": "light"
          }
        }
      ]
    },
    {
      "cell_type": "markdown",
      "metadata": {
        "id": "xxb1AoZKUA-w"
      },
      "source": [
        "PASO 4. RATIO DE CANCELACIÓN"
      ]
    },
    {
      "cell_type": "markdown",
      "metadata": {
        "id": "LFgJdA-xUGlA"
      },
      "source": [
        "PASO 5. RATIO DE CANCELACIÓN/ANTELACIÓN RESERVA EFECTUADA"
      ]
    },
    {
      "cell_type": "markdown",
      "metadata": {
        "id": "gshfOUQ-UQhU"
      },
      "source": [
        "PASO 6. RELACIÓN PERFIL USUARIO/CANCELACIÓN\n",
        "\n",
        "#####En este apartado, analizaremos cómo afecta en las cancelación el perfil de cliente del que se trate."
      ]
    },
    {
      "cell_type": "code",
      "metadata": {
        "id": "rjPmsKOYUeAZ",
        "outputId": "ba0cb98b-7d9f-4b77-b922-23e9241a3ed6",
        "colab": {
          "base_uri": "https://localhost:8080/"
        }
      },
      "source": [
        "df.groupby([\"is_canceled\"]).size()"
      ],
      "execution_count": 131,
      "outputs": [
        {
          "output_type": "execute_result",
          "data": {
            "text/plain": [
              "is_canceled\n",
              "0    75166\n",
              "1    44224\n",
              "dtype: int64"
            ]
          },
          "metadata": {
            "tags": []
          },
          "execution_count": 131
        }
      ]
    },
    {
      "cell_type": "code",
      "metadata": {
        "id": "QyxsOMYsVF_x"
      },
      "source": [
        "df.loc[(df[\"is_canceled\"]==0),\"cancel\"]=\"No\"\n",
        "df.loc[(df[\"is_canceled\"]==1),\"cancel\"]=\"Yes\""
      ],
      "execution_count": 132,
      "outputs": []
    },
    {
      "cell_type": "markdown",
      "metadata": {
        "id": "373vXgSfVKOt"
      },
      "source": [
        "####Cruzamos las variables para comprobar la relación."
      ]
    },
    {
      "cell_type": "code",
      "metadata": {
        "id": "Aey-JnTcVNNx",
        "outputId": "af863a9f-c976-498b-92ed-3c2bd57817ee",
        "colab": {
          "base_uri": "https://localhost:8080/",
          "height": 333
        }
      },
      "source": [
        "pd.crosstab(df.cancel,columns=df[\"Typologies of customers\"]). plot(kind=\"bar\",title=\"Figure 03. Relationship between customer type \\nand possibility to cancel their reservation\", stacked=True)"
      ],
      "execution_count": 133,
      "outputs": [
        {
          "output_type": "execute_result",
          "data": {
            "text/plain": [
              "<matplotlib.axes._subplots.AxesSubplot at 0x7f36be976d68>"
            ]
          },
          "metadata": {
            "tags": []
          },
          "execution_count": 133
        },
        {
          "output_type": "display_data",
          "data": {
            "image/png": "[encoded data removed]",
            "text/plain": [
              "<Figure size 432x288 with 1 Axes>"
            ]
          },
          "metadata": {
            "tags": [],
            "needs_background": "light"
          }
        }
      ]
    },
    {
      "cell_type": "markdown",
      "metadata": {
        "id": "Ct8GAhy_VV9_"
      },
      "source": [
        "PASO 7. RELACIÓN PERFIL USUARIO/RESERVA PARKING\n",
        "\n",
        "#####Ahora, procedemos a analizar si interfiere el tipo de cliente que es en la reserva de plaza de aparcamiento."
      ]
    },
    {
      "cell_type": "code",
      "metadata": {
        "id": "sJJ6aMSkVid9",
        "outputId": "eb7556c8-5ec9-4810-957f-094d56c7f462",
        "colab": {
          "base_uri": "https://localhost:8080/"
        }
      },
      "source": [
        "pk=df.groupby([\"required_car_parking_spaces\"]).size()\n",
        "print(pk)"
      ],
      "execution_count": 135,
      "outputs": [
        {
          "output_type": "stream",
          "text": [
            "required_car_parking_spaces\n",
            "0    111974\n",
            "1      7383\n",
            "2        28\n",
            "3         3\n",
            "8         2\n",
            "dtype: int64\n"
          ],
          "name": "stdout"
        }
      ]
    },
    {
      "cell_type": "markdown",
      "metadata": {
        "id": "vi7tBdR8Vtkr"
      },
      "source": [
        "#####Para este ejercicio, simplificaremos que los valores númericos por encima de 1 son igual a 1, ya que solo nos interesa saber si reservan o no plaza."
      ]
    },
    {
      "cell_type": "code",
      "metadata": {
        "id": "SJCL4ACgV2h4",
        "outputId": "9d03c2ff-3dae-4de0-831a-f9a04ce535fb",
        "colab": {
          "base_uri": "https://localhost:8080/"
        }
      },
      "source": [
        "df [\"Parking\"]=df.required_car_parking_spaces.replace((2,3,8),1)\n",
        "pk_=df.groupby([\"Parking\"]).size()\n",
        "print(pk_)"
      ],
      "execution_count": 138,
      "outputs": [
        {
          "output_type": "stream",
          "text": [
            "Parking\n",
            "0    111974\n",
            "1      7416\n",
            "dtype: int64\n"
          ],
          "name": "stdout"
        }
      ]
    },
    {
      "cell_type": "markdown",
      "metadata": {
        "id": "fL7v6mwaWN0g"
      },
      "source": [
        "#####Dibujamos la gráfica."
      ]
    },
    {
      "cell_type": "code",
      "metadata": {
        "id": "DiUxCNbZWPzD",
        "outputId": "40c3f6fa-53f9-401c-ebbc-f9ded3382c8e",
        "colab": {
          "base_uri": "https://localhost:8080/",
          "height": 333
        }
      },
      "source": [
        "df.loc[(df[\"Parking\"]==0),\"Parking\"]=\"No\"\n",
        "df.loc[(df[\"Parking\"]==1),\"Parking\"]=\"Yes\"\n",
        "pd.crosstab(df.Parking,columns=df[\"Typologies of customers\"]). plot(kind=\"bar\",title=\"Figure 02. Relationship between customer type \\nand parking reservation\", stacked=True)\n"
      ],
      "execution_count": 139,
      "outputs": [
        {
          "output_type": "execute_result",
          "data": {
            "text/plain": [
              "<matplotlib.axes._subplots.AxesSubplot at 0x7f36be8896a0>"
            ]
          },
          "metadata": {
            "tags": []
          },
          "execution_count": 139
        },
        {
          "output_type": "display_data",
          "data": {
            "image/png": "[encoded data removed]",
            "text/plain": [
              "<Figure size 432x288 with 1 Axes>"
            ]
          },
          "metadata": {
            "tags": [],
            "needs_background": "light"
          }
        }
      ]
    },
    {
      "cell_type": "markdown",
      "metadata": {
        "id": "nJ1d6qu5Woed"
      },
      "source": [
        "PASO 8. RELACIÓN PERFIL USUARIO/MES RESERVA\n",
        "#####Por último, analizaremos qué epoca del año suele reservar cada tipología de cliente."
      ]
    },
    {
      "cell_type": "code",
      "metadata": {
        "id": "q5xCtrbgWzW6"
      },
      "source": [
        "df.rename(columns={\"month_new\":\"Name_of_month\"},inplace=True)\n"
      ],
      "execution_count": 142,
      "outputs": []
    },
    {
      "cell_type": "code",
      "metadata": {
        "id": "kd2XyAVTXfOn",
        "outputId": "8bf44128-832c-4d09-e9ff-dd99ea05a0a3",
        "colab": {
          "base_uri": "https://localhost:8080/",
          "height": 373
        }
      },
      "source": [
        "df [\"month_new\"]=df.arrival_date_month.astype(orden_meses)\n",
        "df.rename(columns={\"month_new\":\"Name_of_month\"},inplace=True)\n",
        "pd.crosstab(df.Name_of_month,columns=df[\"Typologies of customers\"]). plot(kind=\"bar\",title=\"Figure 04. Relationship between customer type \\nand month reservation\", stacked=True)"
      ],
      "execution_count": 148,
      "outputs": [
        {
          "output_type": "execute_result",
          "data": {
            "text/plain": [
              "<matplotlib.axes._subplots.AxesSubplot at 0x7f36be838e80>"
            ]
          },
          "metadata": {
            "tags": []
          },
          "execution_count": 148
        },
        {
          "output_type": "display_data",
          "data": {
            "image/png": "[encoded data removed]",
            "text/plain": [
              "<Figure size 432x288 with 1 Axes>"
            ]
          },
          "metadata": {
            "tags": [],
            "needs_background": "light"
          }
        }
      ]
    }
  ]
}