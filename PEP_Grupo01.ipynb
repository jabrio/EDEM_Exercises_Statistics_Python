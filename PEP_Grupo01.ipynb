{
  "nbformat": 4,
  "nbformat_minor": 0,
  "metadata": {
    "colab": {
      "name": "PEP_Grupo01.ipynb",
      "provenance": [],
      "collapsed_sections": [],
      "authorship_tag": "ABX9TyMeZMp7OUHZvng+ENJvwsaO",
      "include_colab_link": true
    },
    "kernelspec": {
      "name": "python3",
      "display_name": "Python 3"
    }
  },
  "cells": [
    {
      "cell_type": "markdown",
      "metadata": {
        "id": "view-in-github",
        "colab_type": "text"
      },
      "source": [
        "<a href=\"https://colab.research.google.com/github/jabrio/EDEM_Exercises_Statistics_Python/blob/main/PEP_Grupo01.ipynb\" target=\"_parent\"><img src=\"https://colab.research.google.com/assets/colab-badge.svg\" alt=\"Open In Colab\"/></a>"
      ]
    },
    {
      "cell_type": "markdown",
      "metadata": {
        "id": "x3ycDsEB2D-_"
      },
      "source": [
        "#Programación estadística en Python_Grupo 01\n",
        "#####En este notebook, realizaremos los ejercicios de la asignatura de Programación estadística en Python de EDEM."
      ]
    },
    {
      "cell_type": "markdown",
      "metadata": {
        "id": "qWHVPUsJ2wiX"
      },
      "source": [
        "##TAREA 01: IMPORTAR UN DATASET DE KAGGLE Y DESCRIBIR SUS VARIABLES\n",
        "####En esta primera tarea, deberemos descargar un archivo .csv de kaggle y describir sus variables, haciendo hincapié en su variable *Target*.\n",
        "\n"
      ]
    },
    {
      "cell_type": "markdown",
      "metadata": {
        "id": "pegXhbVT3K-Q"
      },
      "source": [
        "##Variables a evaluar:\n",
        "\n",
        "1.   Análisis de la demanda: Meses.\n",
        "2.   Análisis de la demanda: Perfil del usuario.\n",
        "3.   Análisis de la demanda: Vías de reserva.\n",
        "4.   Ratio de cancelación.\n",
        "5.   Relación perfil usuario/cancelación.\n",
        "6.   Relación perfil usuario/reserva de parking.\n",
        "7.   Relación perfil usuario/mes reserva.\n"
      ]
    },
    {
      "cell_type": "markdown",
      "metadata": {
        "id": "PXLFUw9T4ov8"
      },
      "source": [
        "### PASO 0_IMPORTAR"
      ]
    },
    {
      "cell_type": "code",
      "metadata": {
        "id": "1IL0mrEk6Wza"
      },
      "source": [
        "import os\n",
        "import pandas as pd \n",
        "import  numpy as np\n",
        "import matplotlib.pyplot as plt"
      ],
      "execution_count": 2,
      "outputs": []
    },
    {
      "cell_type": "code",
      "metadata": {
        "id": "ZWTx7_He7_Ir",
        "outputId": "189d9c79-2737-462b-de3a-9e4f7d0bc4f2",
        "colab": {
          "base_uri": "https://localhost:8080/",
          "height": 130
        }
      },
      "source": [
        "pd.read_csv(https://github.com/guadme/grupo_pep/blob/main/booking_modified.csv)"
      ],
      "execution_count": 5,
      "outputs": [
        {
          "output_type": "error",
          "ename": "SyntaxError",
          "evalue": "ignored",
          "traceback": [
            "\u001b[0;36m  File \u001b[0;32m\"<ipython-input-5-1f8de04a6cad>\"\u001b[0;36m, line \u001b[0;32m1\u001b[0m\n\u001b[0;31m    pd.read_csv(https://github.com/guadme/grupo_pep/blob/main/booking_modified.csv)\u001b[0m\n\u001b[0m                     ^\u001b[0m\n\u001b[0;31mSyntaxError\u001b[0m\u001b[0;31m:\u001b[0m invalid syntax\n"
          ]
        }
      ]
    }
  ]
}