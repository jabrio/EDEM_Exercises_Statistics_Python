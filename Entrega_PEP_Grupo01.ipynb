{
  "nbformat": 4,
  "nbformat_minor": 0,
  "metadata": {
    "colab": {
      "name": "Entrega_PEP_Grupo01.ipynb",
      "provenance": [],
      "collapsed_sections": [],
      "include_colab_link": true
    },
    "kernelspec": {
      "name": "python3",
      "display_name": "Python 3"
    }
  },
  "cells": [
    {
      "cell_type": "markdown",
      "metadata": {
        "id": "view-in-github",
        "colab_type": "text"
      },
      "source": [
        "<a href=\"https://colab.research.google.com/github/jabrio/EDEM_Exercises_Statistics_Python/blob/main/Entrega_PEP_Grupo01.ipynb\" target=\"_parent\"><img src=\"https://colab.research.google.com/assets/colab-badge.svg\" alt=\"Open In Colab\"/></a>"
      ]
    },
    {
      "cell_type": "markdown",
      "metadata": {
        "id": "x3ycDsEB2D-_"
      },
      "source": [
        "#Programación estadística en Python_Grupo 01\n",
        "#####En este notebook, realizaremos los ejercicios de la asignatura de Programación estadística en Python de EDEM."
      ]
    },
    {
      "cell_type": "markdown",
      "metadata": {
        "id": "qWHVPUsJ2wiX"
      },
      "source": [
        "##TAREA 01: IMPORTAR UN DATASET DE KAGGLE Y DESCRIBIR SUS VARIABLES\n",
        "####En esta primera tarea, deberemos descargar un archivo .csv de kaggle y describir sus variables, haciendo hincapié en su variable *Target*.\n",
        "\n"
      ]
    },
    {
      "cell_type": "markdown",
      "metadata": {
        "id": "pegXhbVT3K-Q"
      },
      "source": [
        "##Variables a evaluar:\n",
        "\n",
        "1.   Análisis de la demanda: Meses.\n",
        "2.   Análisis de la demanda: Perfil del usuario.\n",
        "3.   Análisis de la demanda: Vías de reserva.\n",
        "4.   Ratio de cancelación.\n",
        "5.   Relación cancelación/antelación reserva efectuada.\n",
        "6.   Relación perfil usuario/cancelación.\n",
        "7.   Relación perfil usuario/reserva de parking.\n",
        "8.   Relación perfil usuario/mes reserva.\n",
        "9.   Relación tipo de hotel con cancelaciones de cliente\n",
        "\n",
        "\n"
      ]
    },
    {
      "cell_type": "markdown",
      "metadata": {
        "id": "PXLFUw9T4ov8"
      },
      "source": [
        "### PASO 0_IMPORTAR"
      ]
    },
    {
      "cell_type": "code",
      "metadata": {
        "id": "1IL0mrEk6Wza"
      },
      "source": [
        "import os\n",
        "import pandas as pd \n",
        "import  numpy as np\n",
        "import matplotlib.pyplot as plt"
      ],
      "execution_count": null,
      "outputs": []
    },
    {
      "cell_type": "code",
      "metadata": {
        "id": "rqA0zXgJ--qI"
      },
      "source": [
        "df = pd.read_csv(\"https://raw.githubusercontent.com/guadme/grupo_pep/main/booking_modified.csv\")"
      ],
      "execution_count": null,
      "outputs": []
    },
    {
      "cell_type": "code",
      "metadata": {
        "id": "Qp6W2ezVB8KR",
        "outputId": "8326b17a-8ad1-42d6-b4ae-2df1f5399638",
        "colab": {
          "base_uri": "https://localhost:8080/"
        }
      },
      "source": [
        "df.shape\n",
        "df.head\n",
        "df.tail"
      ],
      "execution_count": null,
      "outputs": [
        {
          "output_type": "execute_result",
          "data": {
            "text/plain": [
              "<bound method NDFrame.tail of         Unnamed: 0         hotel  ...  arrival_date_month_num  Arrival_date\n",
              "0                0  Resort Hotel  ...                     7.0    2015-07-01\n",
              "1                1  Resort Hotel  ...                     7.0    2015-07-01\n",
              "2                2  Resort Hotel  ...                     7.0    2015-07-01\n",
              "3                3  Resort Hotel  ...                     7.0    2015-07-01\n",
              "4                4  Resort Hotel  ...                     7.0    2015-07-01\n",
              "...            ...           ...  ...                     ...           ...\n",
              "119385      119385    City Hotel  ...                     8.0    2017-08-30\n",
              "119386      119386    City Hotel  ...                     8.0    2017-08-31\n",
              "119387      119387    City Hotel  ...                     8.0    2017-08-31\n",
              "119388      119388    City Hotel  ...                     8.0    2017-08-31\n",
              "119389      119389    City Hotel  ...                     8.0    2017-08-29\n",
              "\n",
              "[119390 rows x 35 columns]>"
            ]
          },
          "metadata": {
            "tags": []
          },
          "execution_count": 12
        }
      ]
    },
    {
      "cell_type": "markdown",
      "metadata": {
        "id": "8yPhmLPeCGV5"
      },
      "source": [
        "QUALITY CONTROL OK"
      ]
    },
    {
      "cell_type": "markdown",
      "metadata": {
        "id": "DUZJdJRICMyn"
      },
      "source": [
        "**PASO 1. ANÁLISIS DE LA DEMANDA:MESES**\n",
        "\n",
        "#####En este primer apartado, vamos a proceder al análisis de la demanda de hotel, en relación a lo meses del año. Así, veremos la época del año en la que se produce mayor número de reservas. Esta variable, la relacionaremos con la media y la desviación típica."
      ]
    },
    {
      "cell_type": "code",
      "metadata": {
        "id": "lxCIwFokDPxS",
        "outputId": "3c7a5ed5-b056-47a7-c5ec-9cb689bf6440",
        "colab": {
          "base_uri": "https://localhost:8080/"
        }
      },
      "source": [
        "df.groupby([\"arrival_date_month\"]).size()"
      ],
      "execution_count": null,
      "outputs": [
        {
          "output_type": "execute_result",
          "data": {
            "text/plain": [
              "arrival_date_month\n",
              "April        11089\n",
              "August       13877\n",
              "December      6780\n",
              "February      8068\n",
              "January       5929\n",
              "July         12661\n",
              "June         10939\n",
              "March         9794\n",
              "May          11791\n",
              "November      6794\n",
              "October      11160\n",
              "September    10508\n",
              "dtype: int64"
            ]
          },
          "metadata": {
            "tags": []
          },
          "execution_count": 13
        }
      ]
    },
    {
      "cell_type": "markdown",
      "metadata": {
        "id": "TO4iB6TvDS95"
      },
      "source": [
        "#####Como no aparece ordenado por orden cronológico, procedemos a realizar esta operación."
      ]
    },
    {
      "cell_type": "code",
      "metadata": {
        "id": "ni-Z9aaVDfnr"
      },
      "source": [
        "from pandas.api.types import CategoricalDtype\n",
        "\n",
        "month_list=[\"January\", \"February\", \"March\", \"April\", \"May\", \"June\", \"July\", \"August\", \"September\", \"October\", \"November\", \"December\"]\n",
        "orden_meses= CategoricalDtype(categories=month_list, ordered=True)\n",
        "df [\"month_new\"]=df.arrival_date_month.astype(orden_meses)"
      ],
      "execution_count": null,
      "outputs": []
    },
    {
      "cell_type": "code",
      "metadata": {
        "id": "yzvErxtNDyPU",
        "outputId": "5fa18a5e-0f78-45aa-9737-95e995fc6e32",
        "colab": {
          "base_uri": "https://localhost:8080/"
        }
      },
      "source": [
        "df.groupby([\"month_new\"]).size()"
      ],
      "execution_count": null,
      "outputs": [
        {
          "output_type": "execute_result",
          "data": {
            "text/plain": [
              "month_new\n",
              "January       5929\n",
              "February      8068\n",
              "March         9794\n",
              "April        11089\n",
              "May          11791\n",
              "June         10939\n",
              "July         12661\n",
              "August       13877\n",
              "September    10508\n",
              "October      11160\n",
              "November      6794\n",
              "December      6780\n",
              "dtype: int64"
            ]
          },
          "metadata": {
            "tags": []
          },
          "execution_count": 15
        }
      ]
    },
    {
      "cell_type": "code",
      "metadata": {
        "id": "Z2vLKUpYDawQ",
        "outputId": "985969a6-3673-49c9-dd9d-07383170bb72",
        "colab": {
          "base_uri": "https://localhost:8080/",
          "height": 298
        }
      },
      "source": [
        "month_new=df.groupby([\"month_new\"]).size()\n",
        "month_bar=[\"Jan\", \"Feb\", \"Mar\", \"Apr\", \"May\", \"Jun\", \"Jul\", \"Aug\", \"Sep\", \"Oct\", \"Nov\", \"Dec\"]\n",
        "plt.bar(month_bar, month_new, edgecolor=\"Black\")\n",
        "plt.title(\"Figura 01. Número clientes/mes\")\n",
        "plt.ylabel(\"Frecuencia\")"
      ],
      "execution_count": null,
      "outputs": [
        {
          "output_type": "execute_result",
          "data": {
            "text/plain": [
              "Text(0, 0.5, 'Frecuencia')"
            ]
          },
          "metadata": {
            "tags": []
          },
          "execution_count": 21
        },
        {
          "output_type": "display_data",
          "data": {
            "image/png": "[encoded data removed]",
            "text/plain": [
              "<Figure size 432x288 with 1 Axes>"
            ]
          },
          "metadata": {
            "tags": [],
            "needs_background": "light"
          }
        }
      ]
    },
    {
      "cell_type": "markdown",
      "metadata": {
        "id": "sKPm0WxaE9jz"
      },
      "source": [
        "####Procedemos al análisis de variables cuantitativas."
      ]
    },
    {
      "cell_type": "code",
      "metadata": {
        "id": "FWoYDdl2FBuI",
        "outputId": "9d62317a-2408-4bfa-e1cf-f691350a5ddb",
        "colab": {
          "base_uri": "https://localhost:8080/"
        }
      },
      "source": [
        "month_new.describe()"
      ],
      "execution_count": null,
      "outputs": [
        {
          "output_type": "execute_result",
          "data": {
            "text/plain": [
              "count       12.000000\n",
              "mean      9949.166667\n",
              "std       2521.813303\n",
              "min       5929.000000\n",
              "25%       7749.500000\n",
              "50%      10723.500000\n",
              "75%      11317.750000\n",
              "max      13877.000000\n",
              "dtype: float64"
            ]
          },
          "metadata": {
            "tags": []
          },
          "execution_count": 22
        }
      ]
    },
    {
      "cell_type": "code",
      "metadata": {
        "id": "cKZGSCvlFKMD"
      },
      "source": [
        "M=month_new.mean()\n",
        "S=month_new.std()\n",
        "c1=M-S\n",
        "c2=M+S"
      ],
      "execution_count": null,
      "outputs": []
    },
    {
      "cell_type": "markdown",
      "metadata": {
        "id": "75sdFdD6FXtE"
      },
      "source": [
        "####Dibujamos la gráfica"
      ]
    },
    {
      "cell_type": "code",
      "metadata": {
        "id": "vuAaGDFpFbML",
        "outputId": "de07e5da-bf36-461b-af5d-c045a1d7b990",
        "colab": {
          "base_uri": "https://localhost:8080/",
          "height": 298
        }
      },
      "source": [
        "plt.bar(month_bar, month_new, edgecolor=\"Black\")\n",
        "plt.title(\"Figura 01. Número clientes/mes\")\n",
        "plt.ylabel(\"Frecuencia\")\n",
        "\n",
        "plt.axhline(y=M,\n",
        "            linewidth=1,\n",
        "            linestyle=\"dashed\",\n",
        "            Color=\"red\",\n",
        "            label=\"Mean\")\n",
        "\n",
        "plt.axhline(y=M+S,\n",
        "            linewidth=1,\n",
        "            linestyle=\"dashed\",\n",
        "            Color=\"Green\",\n",
        "            label=\"SD\")\n",
        "\n",
        "plt.axhline(y=M-S,\n",
        "            linewidth=1,\n",
        "            linestyle=\"dashed\",\n",
        "            Color=\"Green\",\n",
        "            label=\"SD\")\n",
        "\n",
        "text1=\"Mean\"\n",
        "text2=\"+ S.D\"\n",
        "text3=\"- S.D\"\n",
        "\n",
        "plt.text(10.5,10500,text1)\n",
        "plt.text(10.5,8000,text3)\n",
        "plt.text(10.5,13000,text2)\n",
        "\n",
        "n=month_new.sum()\n",
        "props=dict(boxstyle=\"round\", facecolor=\"white\", lw=0.5)\n",
        "text4=\"n=119390\"\n",
        "plt.text(-0.50,13200,text4, bbox=props)"
      ],
      "execution_count": null,
      "outputs": [
        {
          "output_type": "execute_result",
          "data": {
            "text/plain": [
              "Text(-0.5, 13200, 'n=119390')"
            ]
          },
          "metadata": {
            "tags": []
          },
          "execution_count": 26
        },
        {
          "output_type": "display_data",
          "data": {
            "image/png": "[encoded data removed]",
            "text/plain": [
              "<Figure size 432x288 with 1 Axes>"
            ]
          },
          "metadata": {
            "tags": [],
            "needs_background": "light"
          }
        }
      ]
    },
    {
      "cell_type": "markdown",
      "metadata": {
        "id": "CISYr1zlGPhJ"
      },
      "source": [
        "**PASO 2. ANÁLISIS DE LA DEMANDA:PERFIL USUARIO**\n",
        "\n",
        "#####Para definir el perfil de usuario, clasificaremos, según el gasto realizado en el hotel (adr), 3 tipologías de cliente:\n",
        "\n",
        "\n",
        "*   Low customer\n",
        "*   Average customer\n",
        "*   High customer\n"
      ]
    },
    {
      "cell_type": "code",
      "metadata": {
        "id": "Fw76wcAVJAJL",
        "outputId": "9f1fce4f-93ed-4ab6-f346-88c90df0865c",
        "colab": {
          "base_uri": "https://localhost:8080/"
        }
      },
      "source": [
        "df.groupby([\"adr\"]).size()"
      ],
      "execution_count": null,
      "outputs": [
        {
          "output_type": "execute_result",
          "data": {
            "text/plain": [
              "adr\n",
              "-6.38          1\n",
              " 0.00       1959\n",
              " 0.26          1\n",
              " 0.50          1\n",
              " 1.00         15\n",
              "            ... \n",
              " 450.00        1\n",
              " 451.50        1\n",
              " 508.00        1\n",
              " 510.00        1\n",
              " 5400.00       1\n",
              "Length: 8879, dtype: int64"
            ]
          },
          "metadata": {
            "tags": []
          },
          "execution_count": 33
        }
      ]
    },
    {
      "cell_type": "code",
      "metadata": {
        "id": "uTwV5T3xH3Af",
        "outputId": "86c8eb5d-2d4d-4a0d-bb33-69809526f5fb",
        "colab": {
          "base_uri": "https://localhost:8080/",
          "height": 367
        }
      },
      "source": [
        "adr.describe()\n",
        "plt.hist(adr)"
      ],
      "execution_count": null,
      "outputs": [
        {
          "output_type": "execute_result",
          "data": {
            "text/plain": [
              "(array([8.825e+03, 3.300e+01, 8.000e+00, 2.000e+00, 5.000e+00, 2.000e+00,\n",
              "        2.000e+00, 1.000e+00, 0.000e+00, 1.000e+00]),\n",
              " array([1.0000e+00, 3.7630e+02, 7.5160e+02, 1.1269e+03, 1.5022e+03,\n",
              "        1.8775e+03, 2.2528e+03, 2.6281e+03, 3.0034e+03, 3.3787e+03,\n",
              "        3.7540e+03]),\n",
              " <a list of 10 Patch objects>)"
            ]
          },
          "metadata": {
            "tags": []
          },
          "execution_count": 47
        },
        {
          "output_type": "display_data",
          "data": {
            "image/png": "[encoded data removed]",
            "text/plain": [
              "<Figure size 432x288 with 1 Axes>"
            ]
          },
          "metadata": {
            "tags": [],
            "needs_background": "light"
          }
        }
      ]
    },
    {
      "cell_type": "markdown",
      "metadata": {
        "id": "knaMPR7dIHw5"
      },
      "source": [
        "####Eliminaremos los valores de 0 al no ser representativos. Además, como podemos ver, existe un valor muy alejado del resto que suprimiremos."
      ]
    },
    {
      "cell_type": "code",
      "metadata": {
        "id": "m0R68L_MNrCU",
        "outputId": "b5414d94-f8b2-49e7-e229-10ce98c872ea",
        "colab": {
          "base_uri": "https://localhost:8080/"
        }
      },
      "source": [
        "df [\"Spending\"]=df.adr.replace((0,5400),np.nan)\n",
        "df.groupby([\"Spending\"]).size()\n"
      ],
      "execution_count": null,
      "outputs": [
        {
          "output_type": "execute_result",
          "data": {
            "text/plain": [
              "Spending\n",
              "-6.38       1\n",
              " 0.26       1\n",
              " 0.50       1\n",
              " 1.00      15\n",
              " 1.29       1\n",
              "           ..\n",
              " 437.00     1\n",
              " 450.00     1\n",
              " 451.50     1\n",
              " 508.00     1\n",
              " 510.00     1\n",
              "Length: 8877, dtype: int64"
            ]
          },
          "metadata": {
            "tags": []
          },
          "execution_count": 42
        }
      ]
    },
    {
      "cell_type": "code",
      "metadata": {
        "id": "o-IQSXY1MUQZ"
      },
      "source": [
        "df_01=df.Spending.dropna()"
      ],
      "execution_count": null,
      "outputs": []
    },
    {
      "cell_type": "code",
      "metadata": {
        "id": "PGk1mHQ9PdWI",
        "outputId": "92dae6a2-ceb9-4ef4-afb7-9a03dcfe75df",
        "colab": {
          "base_uri": "https://localhost:8080/",
          "height": 308
        }
      },
      "source": [
        "\n",
        "A=df.groupby([\"Spending\"]).size()\n",
        "plt.hist(A,edgecolor=\"Black\")\n",
        "plt.title(\"Typologies of customers\")\n",
        "plt.xlabel(\"Average ticket\")\n",
        "plt.ylabel(\"Frecuency (Customers)\")\n",
        "M1=df.Spending.mean()\n",
        "S1=df.Spending.std()\n",
        "\n",
        "c3=M1-S1\n",
        "c4=M1+S1\n",
        "\n",
        "plt.axvline(x=M1,\n",
        "            linewidth=1,\n",
        "            linestyle=\"dashed\",\n",
        "            Color=\"red\",\n",
        "            label=\"Mean\")\n",
        "\n",
        "plt.axvline(x=c3,\n",
        "            linewidth=1,\n",
        "            linestyle=\"dashed\",\n",
        "            Color=\"Orange\",\n",
        "            label=\"SD\")\n",
        "\n",
        "plt.axvline(x=c4,\n",
        "            linewidth=1,\n",
        "            linestyle=\"dashed\",\n",
        "            Color=\"Orange\",\n",
        "            label=\"SD\")"
      ],
      "execution_count": null,
      "outputs": [
        {
          "output_type": "execute_result",
          "data": {
            "text/plain": [
              "<matplotlib.lines.Line2D at 0x7fb6afda84a8>"
            ]
          },
          "metadata": {
            "tags": []
          },
          "execution_count": 44
        },
        {
          "output_type": "display_data",
          "data": {
            "image/png": "[encoded data removed]",
            "text/plain": [
              "<Figure size 432x288 with 1 Axes>"
            ]
          },
          "metadata": {
            "tags": [],
            "needs_background": "light"
          }
        }
      ]
    },
    {
      "cell_type": "markdown",
      "metadata": {
        "id": "AXfPC8nzQjg-"
      },
      "source": [
        "#####Por tanto, c3 y c4 serán los puntos de corte que nos ayudarán a clasificar los distintos tipos de cliente."
      ]
    },
    {
      "cell_type": "code",
      "metadata": {
        "id": "yK8VMVoVQsKf",
        "outputId": "afa9fbc3-019c-4e38-f448-6e5f187914d4",
        "colab": {
          "base_uri": "https://localhost:8080/"
        }
      },
      "source": [
        "df.loc[(df[\"Spending\"]<c3),\"SP\"]=\"Low customer\"\n",
        "df.loc[((df[\"Spending\"]>=c3)& (df[\"Spending\"]<c4)),\"SP\"]=\"Average customer\"\n",
        "df.loc[(df[\"Spending\"]>=c4),\"SP\"]=\"High customer\"\n",
        "df.SP.dropna()"
      ],
      "execution_count": null,
      "outputs": [
        {
          "output_type": "execute_result",
          "data": {
            "text/plain": [
              "2         Average customer\n",
              "3         Average customer\n",
              "4         Average customer\n",
              "5         Average customer\n",
              "6         Average customer\n",
              "                ...       \n",
              "119385    Average customer\n",
              "119386       High customer\n",
              "119387       High customer\n",
              "119388    Average customer\n",
              "119389       High customer\n",
              "Name: SP, Length: 117430, dtype: object"
            ]
          },
          "metadata": {
            "tags": []
          },
          "execution_count": 46
        }
      ]
    },
    {
      "cell_type": "markdown",
      "metadata": {
        "id": "IuSODhBQRCMo"
      },
      "source": [
        "#####Establecemos los porcentajes y dibujamos la gráfica (teniendo en cuenta que hay que modificar el orden, ya que no nos interesa un orden alfabético).\n"
      ]
    },
    {
      "cell_type": "code",
      "metadata": {
        "id": "hFdvF2rMRHww",
        "outputId": "c1cef6b1-bea3-4a18-a14e-81df58606ce1",
        "colab": {
          "base_uri": "https://localhost:8080/",
          "height": 400
        }
      },
      "source": [
        "mytable=df.groupby([\"SP\"]).size()\n",
        "print(mytable)\n",
        "n=mytable.sum()\n",
        "print(n)\n",
        "mytable_A=(mytable/n)*100\n",
        "bar_list=[\"Low customer\", \"Average customer\", \"High customer\"]\n",
        "from pandas.api.types import CategoricalDtype\n",
        "order_new= CategoricalDtype(categories=bar_list, ordered=True)\n",
        "df[\"order_new\"]=df.SP.astype(order_new)\n",
        "order_new=df.groupby([\"order_new\"]).size()\n",
        "\n",
        "plt.bar(bar_list,order_new,edgecolor=\"Black\")\n",
        "plt.title(\"Figure 02. Typologies of customers.\")"
      ],
      "execution_count": null,
      "outputs": [
        {
          "output_type": "stream",
          "text": [
            "SP\n",
            "Average customer    87810\n",
            "High customer       16497\n",
            "Low customer        13123\n",
            "dtype: int64\n",
            "117430\n"
          ],
          "name": "stdout"
        },
        {
          "output_type": "execute_result",
          "data": {
            "text/plain": [
              "Text(0.5, 1.0, 'Figure 02. Typologies of customers.')"
            ]
          },
          "metadata": {
            "tags": []
          },
          "execution_count": 116
        },
        {
          "output_type": "display_data",
          "data": {
            "image/png": "[encoded data removed]",
            "text/plain": [
              "<Figure size 432x288 with 1 Axes>"
            ]
          },
          "metadata": {
            "tags": [],
            "needs_background": "light"
          }
        }
      ]
    },
    {
      "cell_type": "markdown",
      "metadata": {
        "id": "q04KtS-VR4eU"
      },
      "source": [
        "**PASO 3. ANÁLISIS DE LA DEMANDA:VÍAS DE RESERVA.**\n",
        "\n",
        "#####En este apartado, nos interesa saber cuál es el canal de captación de nuestros clientes:cómo nos contactan."
      ]
    },
    {
      "cell_type": "code",
      "metadata": {
        "id": "MaDhWk3mSHa-",
        "outputId": "3ed02d85-f293-4f37-9e47-20185fd76de9",
        "colab": {
          "base_uri": "https://localhost:8080/"
        }
      },
      "source": [
        "df.groupby([\"market_segment\"]).size()\n",
        "mytable_G=df.groupby([\"market_segment\"]).size()\n",
        "nG=mytable_G.sum()\n",
        "mytable_G1=(mytable_G/nG)*100\n",
        "print(mytable_G1)\n",
        "G2=df.groupby([\"market_segment\"]).size()\n",
        "print(G2)"
      ],
      "execution_count": null,
      "outputs": [
        {
          "output_type": "stream",
          "text": [
            "market_segment\n",
            "Aviation          0.198509\n",
            "Complementary     0.622330\n",
            "Corporate         4.435045\n",
            "Direct           10.558673\n",
            "Groups           16.593517\n",
            "Offline TA/TO    20.285619\n",
            "Online TA        47.304632\n",
            "Undefined         0.001675\n",
            "dtype: float64\n",
            "market_segment\n",
            "Aviation           237\n",
            "Complementary      743\n",
            "Corporate         5295\n",
            "Direct           12606\n",
            "Groups           19811\n",
            "Offline TA/TO    24219\n",
            "Online TA        56477\n",
            "Undefined            2\n",
            "dtype: int64\n"
          ],
          "name": "stdout"
        }
      ]
    },
    {
      "cell_type": "markdown",
      "metadata": {
        "id": "H4U1a6IfSfLJ"
      },
      "source": [
        "#####Debido al pequeño porcentaje de algunos de los nombres, agruparemos las minoritarias en un nuevo grupo denominado \"others\"."
      ]
    },
    {
      "cell_type": "code",
      "metadata": {
        "id": "pna-pqmLSqnq",
        "outputId": "02a0e8c2-d71f-4792-9bb5-0cdb1afa0d7c",
        "colab": {
          "base_uri": "https://localhost:8080/"
        }
      },
      "source": [
        "df.loc[(df[\"market_segment\"]==\"Aviation\"),\"market_segment\"]=\"Others\"\n",
        "df.loc[(df[\"market_segment\"]==\"Complementary\"),\"market_segment\"]=\"Others\"\n",
        "df.loc[(df[\"market_segment\"]==\"Undefined\"),\"market_segment\"]=\"Others\"\n",
        "B=df.groupby([\"market_segment\"]).size()\n",
        "print(B)"
      ],
      "execution_count": null,
      "outputs": [
        {
          "output_type": "stream",
          "text": [
            "market_segment\n",
            "Corporate         5295\n",
            "Direct           12606\n",
            "Groups           19811\n",
            "Offline TA/TO    24219\n",
            "Online TA        56477\n",
            "Others             982\n",
            "dtype: int64\n"
          ],
          "name": "stdout"
        }
      ]
    },
    {
      "cell_type": "markdown",
      "metadata": {
        "id": "ZTgPwu8TTGua"
      },
      "source": [
        "#####Procedemos a dibujar la gráfica.\n"
      ]
    },
    {
      "cell_type": "code",
      "metadata": {
        "id": "nsRB9Ig7TKuV",
        "outputId": "f21c6c7c-39b2-4eb8-d99c-c6c7c588a943",
        "colab": {
          "base_uri": "https://localhost:8080/",
          "height": 279
        }
      },
      "source": [
        "from matplotlib import colors\n",
        "from matplotlib import cm\n",
        "normdata = colors.Normalize(min(B), max(B))\n",
        "colormap = cm.get_cmap(\"Blues\")\n",
        "colores =colormap(normdata(B))\n",
        "G2_List=[\"Corporate\",\"Direct\",\"Groups\",\"Offline TA/TO\",\"Online TA\", \"Others\"]\n",
        "desfase=(0.05,0.05,0.05,0.05,0.1,0.05)\n",
        "plt.pie(B, labels=G2_List, autopct=\"%0.1f %%\", colors=colores, explode=desfase)\n",
        "plt.title(\"Figure 03. Market Segment\")"
      ],
      "execution_count": null,
      "outputs": [
        {
          "output_type": "execute_result",
          "data": {
            "text/plain": [
              "Text(0.5, 1.0, 'Figure 03. Market Segment')"
            ]
          },
          "metadata": {
            "tags": []
          },
          "execution_count": 38
        },
        {
          "output_type": "display_data",
          "data": {
            "image/png": "[encoded data removed]",
            "text/plain": [
              "<Figure size 432x288 with 1 Axes>"
            ]
          },
          "metadata": {
            "tags": []
          }
        }
      ]
    },
    {
      "cell_type": "markdown",
      "metadata": {
        "id": "7oObllCVUxCP"
      },
      "source": [
        "#####Ahora, analizaremos que tipología de cliente viene por cada tipo de vía."
      ]
    },
    {
      "cell_type": "code",
      "metadata": {
        "id": "K6etrDNfUlJb",
        "outputId": "58f26df4-0daa-4b16-b1a4-c55a70403652",
        "colab": {
          "base_uri": "https://localhost:8080/",
          "height": 370
        }
      },
      "source": [
        "df.rename(columns={\"SP\":\"Typologies of customers\"},inplace=True)\n",
        "pd.crosstab(df.market_segment,columns=df[\"Typologies of customers\"]). plot(kind=\"bar\",title=\"Figure 04. Relationship between customer type \\nand ways of reservation\", stacked=True)"
      ],
      "execution_count": null,
      "outputs": [
        {
          "output_type": "execute_result",
          "data": {
            "text/plain": [
              "<matplotlib.axes._subplots.AxesSubplot at 0x7fb6ad543b38>"
            ]
          },
          "metadata": {
            "tags": []
          },
          "execution_count": 48
        },
        {
          "output_type": "display_data",
          "data": {
            "image/png": "[encoded data removed]",
            "text/plain": [
              "<Figure size 432x288 with 1 Axes>"
            ]
          },
          "metadata": {
            "tags": [],
            "needs_background": "light"
          }
        }
      ]
    },
    {
      "cell_type": "markdown",
      "metadata": {
        "id": "xxb1AoZKUA-w"
      },
      "source": [
        "**PASO 4. RATIO DE CANCELACIÓN**"
      ]
    },
    {
      "cell_type": "markdown",
      "metadata": {
        "id": "YX9ulT7lcf5w"
      },
      "source": [
        "#### En este apartado, visualizaremos cual es el porcentaje total de cancelaciones que se producen:"
      ]
    },
    {
      "cell_type": "code",
      "metadata": {
        "id": "e4O02IQPpYCd"
      },
      "source": [
        "iscanceled_table = df.groupby (['is_canceled']).size()"
      ],
      "execution_count": null,
      "outputs": []
    },
    {
      "cell_type": "code",
      "metadata": {
        "id": "Fq70zPEgpyi7",
        "outputId": "dfbac3b7-e2f0-4a46-95f5-a6452dd53b64",
        "colab": {
          "base_uri": "https://localhost:8080/",
          "height": 262
        }
      },
      "source": [
        "plt.rcParams['font.size'] = 9.0\n",
        "explode = ( 0, 0.02)\n",
        "colors = (\"green\", \"red\")\n",
        "labels = \"Not canceled\", \"Canceled\"\n",
        "plt.pie(x=iscanceled_table, autopct=\"%.1f%%\", labels=labels, pctdistance=0.5, explode=explode, colors=colors )\n",
        "plt.title(\"Figure 05. Cancellations ratio\")\n",
        "plt.show();"
      ],
      "execution_count": null,
      "outputs": [
        {
          "output_type": "display_data",
          "data": {
            "image/png": "[encoded data removed]",
            "text/plain": [
              "<Figure size 432x288 with 1 Axes>"
            ]
          },
          "metadata": {
            "tags": []
          }
        }
      ]
    },
    {
      "cell_type": "markdown",
      "metadata": {
        "id": "LFgJdA-xUGlA"
      },
      "source": [
        "**PASO 5. PORCENTAJE DE CANCELACIÓN/ANTELACIÓN RESERVA EFECTUADA**"
      ]
    },
    {
      "cell_type": "markdown",
      "metadata": {
        "id": "cKcI6tb2qw6D"
      },
      "source": [
        "En el apartado 5, comprobaremos ***gráfica*** y ***numéricamente*** si existe una relación entre el tiempo de antelación con el que se realiza la reserva y las cancelaciones que se producen en términos relativos (para lo que utilizaremos una función lambda que calcula esto a lo largo de la tabla).\n",
        "\n",
        "Para ello, en primer lugar, establecemos rangos en el número de días de antelación con los que se produce la reserva:"
      ]
    },
    {
      "cell_type": "code",
      "metadata": {
        "id": "2xETG_8Arbt2"
      },
      "source": [
        "df.loc [(df ['lead_time'] <= 149) , \"lead_time_c\"] = \"1 : < 150\"\n",
        "df.loc [ ((df[\"lead_time\"]>=150) & (df['lead_time']<250)), \"lead_time_c\"] = '2 : 150 - 250 '\n",
        "df.loc [ (df[\"lead_time\"]>=250) ,\"lead_time_c\"] = '3: >250' \n"
      ],
      "execution_count": null,
      "outputs": []
    },
    {
      "cell_type": "markdown",
      "metadata": {
        "id": "hfNHWisevmHb"
      },
      "source": [
        "Y categorizamos también **'is_canceled'** con: "
      ]
    },
    {
      "cell_type": "code",
      "metadata": {
        "id": "RqQne_WzvX7-"
      },
      "source": [
        "\n",
        "df.loc[(df[\"is_canceled\"]==0),\"cancel\"]=\"No\"\n",
        "df.loc[(df[\"is_canceled\"]==1),\"cancel\"]=\"Yes\""
      ],
      "execution_count": null,
      "outputs": []
    },
    {
      "cell_type": "markdown",
      "metadata": {
        "id": "KlXoMDxAr6Tu"
      },
      "source": [
        "Y a continuación realizamos un cruce de variables entre '***cancel***' y la nueva '***lead_time_c***'\n",
        "\n",
        "\n"
      ]
    },
    {
      "cell_type": "code",
      "metadata": {
        "id": "qbsV5HNhrERa",
        "outputId": "6cae21c6-0617-4ccf-ce73-72ef18930d69",
        "colab": {
          "base_uri": "https://localhost:8080/",
          "height": 278
        }
      },
      "source": [
        "lead_iscanceled_plot = pd.crosstab(df.cancel, columns=df['lead_time_c']).apply(lambda r: r/len(df) *100,\n",
        "                                axis=1).plot(kind='barh', stacked= True, title = \"Figure 06. Customer cancellations / Days in advance of the reservation\")"
      ],
      "execution_count": null,
      "outputs": [
        {
          "output_type": "display_data",
          "data": {
            "image/png": "[encoded data removed]",
            "text/plain": [
              "<Figure size 432x288 with 1 Axes>"
            ]
          },
          "metadata": {
            "tags": [],
            "needs_background": "light"
          }
        }
      ]
    },
    {
      "cell_type": "markdown",
      "metadata": {
        "id": "AejK3r2itCh3"
      },
      "source": [
        "#### Para verlo de manera **númerica**:"
      ]
    },
    {
      "cell_type": "code",
      "metadata": {
        "id": "pxrPl2-CtFfw",
        "outputId": "69d8bfe2-5ed3-4b7d-c207-181d6ec9ab45",
        "colab": {
          "base_uri": "https://localhost:8080/",
          "height": 142
        }
      },
      "source": [
        "lead_iscanceled_num = pd.crosstab(df.is_canceled, columns=df['lead_time_c']).apply(lambda r: r/len(df) *100, axis=1)\n",
        "\n",
        "lead_iscanceled_num"
      ],
      "execution_count": null,
      "outputs": [
        {
          "output_type": "execute_result",
          "data": {
            "text/html": [
              "<div>\n",
              "<style scoped>\n",
              "    .dataframe tbody tr th:only-of-type {\n",
              "        vertical-align: middle;\n",
              "    }\n",
              "\n",
              "    .dataframe tbody tr th {\n",
              "        vertical-align: top;\n",
              "    }\n",
              "\n",
              "    .dataframe thead th {\n",
              "        text-align: right;\n",
              "    }\n",
              "</style>\n",
              "<table border=\"1\" class=\"dataframe\">\n",
              "  <thead>\n",
              "    <tr style=\"text-align: right;\">\n",
              "      <th>lead_time_c</th>\n",
              "      <th>1 : &lt; 150</th>\n",
              "      <th>2 : 150 - 250</th>\n",
              "      <th>3: &gt;250</th>\n",
              "    </tr>\n",
              "    <tr>\n",
              "      <th>is_canceled</th>\n",
              "      <th></th>\n",
              "      <th></th>\n",
              "      <th></th>\n",
              "    </tr>\n",
              "  </thead>\n",
              "  <tbody>\n",
              "    <tr>\n",
              "      <th>0</th>\n",
              "      <td>50.368540</td>\n",
              "      <td>8.574420</td>\n",
              "      <td>4.015412</td>\n",
              "    </tr>\n",
              "    <tr>\n",
              "      <th>1</th>\n",
              "      <td>22.095653</td>\n",
              "      <td>7.509842</td>\n",
              "      <td>7.436134</td>\n",
              "    </tr>\n",
              "  </tbody>\n",
              "</table>\n",
              "</div>"
            ],
            "text/plain": [
              "lead_time_c  1 : < 150  2 : 150 - 250    3: >250\n",
              "is_canceled                                     \n",
              "0            50.368540        8.574420  4.015412\n",
              "1            22.095653        7.509842  7.436134"
            ]
          },
          "metadata": {
            "tags": []
          },
          "execution_count": 26
        }
      ]
    },
    {
      "cell_type": "markdown",
      "metadata": {
        "id": "gshfOUQ-UQhU"
      },
      "source": [
        "**PASO 6. RELACIÓN PERFIL USUARIO/CANCELACIÓN**\n",
        "\n",
        "#####En este apartado, analizaremos cómo afecta en las cancelación el perfil de cliente del que se trate."
      ]
    },
    {
      "cell_type": "code",
      "metadata": {
        "id": "rjPmsKOYUeAZ",
        "outputId": "ba0cb98b-7d9f-4b77-b922-23e9241a3ed6",
        "colab": {
          "base_uri": "https://localhost:8080/"
        }
      },
      "source": [
        "df.groupby([\"is_canceled\"]).size()"
      ],
      "execution_count": null,
      "outputs": [
        {
          "output_type": "execute_result",
          "data": {
            "text/plain": [
              "is_canceled\n",
              "0    75166\n",
              "1    44224\n",
              "dtype: int64"
            ]
          },
          "metadata": {
            "tags": []
          },
          "execution_count": 131
        }
      ]
    },
    {
      "cell_type": "markdown",
      "metadata": {
        "id": "373vXgSfVKOt"
      },
      "source": [
        "####Cruzamos las variables para comprobar la relación. \n",
        "####Cómo anteriormente, ya hemos categorizado en una nueva columna la variable 'is_canceled' para convertirla en 'cancel', la utilizaremos ahora de nuevo."
      ]
    },
    {
      "cell_type": "code",
      "metadata": {
        "id": "Aey-JnTcVNNx",
        "outputId": "add7ab4e-8909-4127-a78f-a2ee1316b3ac",
        "colab": {
          "base_uri": "https://localhost:8080/",
          "height": 325
        }
      },
      "source": [
        "pd.crosstab(df.cancel,columns=df[\"Typologies of customers\"]). plot(kind=\"bar\",title=\"Figure 07. Relationship between customer type \\nand possibility to cancel their reservation\", stacked=True)"
      ],
      "execution_count": null,
      "outputs": [
        {
          "output_type": "execute_result",
          "data": {
            "text/plain": [
              "<matplotlib.axes._subplots.AxesSubplot at 0x7fb6afdd66a0>"
            ]
          },
          "metadata": {
            "tags": []
          },
          "execution_count": 51
        },
        {
          "output_type": "display_data",
          "data": {
            "image/png": "[encoded data removed]",
            "text/plain": [
              "<Figure size 432x288 with 1 Axes>"
            ]
          },
          "metadata": {
            "tags": [],
            "needs_background": "light"
          }
        }
      ]
    },
    {
      "cell_type": "markdown",
      "metadata": {
        "id": "Ct8GAhy_VV9_"
      },
      "source": [
        "**PASO 7. RELACIÓN PERFIL USUARIO/RESERVA PARKING**\n",
        "\n",
        "#####Ahora, procedemos a analizar si interfiere el tipo de cliente que es en la reserva de plaza de aparcamiento."
      ]
    },
    {
      "cell_type": "code",
      "metadata": {
        "id": "sJJ6aMSkVid9",
        "outputId": "7d2118d8-978e-43da-a3e0-c2d37bd935de",
        "colab": {
          "base_uri": "https://localhost:8080/"
        }
      },
      "source": [
        "pk=df.groupby([\"required_car_parking_spaces\"]).size()\n",
        "print(pk)"
      ],
      "execution_count": null,
      "outputs": [
        {
          "output_type": "stream",
          "text": [
            "required_car_parking_spaces\n",
            "0    111974\n",
            "1      7383\n",
            "2        28\n",
            "3         3\n",
            "8         2\n",
            "dtype: int64\n"
          ],
          "name": "stdout"
        }
      ]
    },
    {
      "cell_type": "markdown",
      "metadata": {
        "id": "vi7tBdR8Vtkr"
      },
      "source": [
        "#####Para este ejercicio, simplificaremos que los valores númericos por encima de 1 son igual a 1, ya que solo nos interesa saber si reservan o no plaza."
      ]
    },
    {
      "cell_type": "code",
      "metadata": {
        "id": "SJCL4ACgV2h4",
        "outputId": "8b24a28b-3acc-4443-d07b-3b9f54163713",
        "colab": {
          "base_uri": "https://localhost:8080/"
        }
      },
      "source": [
        "df [\"Parking\"]=df.required_car_parking_spaces.replace((2,3,8),1)\n",
        "pk_=df.groupby([\"Parking\"]).size()\n",
        "print(pk_)"
      ],
      "execution_count": null,
      "outputs": [
        {
          "output_type": "stream",
          "text": [
            "Parking\n",
            "0    111974\n",
            "1      7416\n",
            "dtype: int64\n"
          ],
          "name": "stdout"
        }
      ]
    },
    {
      "cell_type": "markdown",
      "metadata": {
        "id": "fL7v6mwaWN0g"
      },
      "source": [
        "#####Dibujamos la gráfica."
      ]
    },
    {
      "cell_type": "code",
      "metadata": {
        "id": "DiUxCNbZWPzD",
        "outputId": "3dd15347-1e47-4cc0-b778-679210abf326",
        "colab": {
          "base_uri": "https://localhost:8080/",
          "height": 325
        }
      },
      "source": [
        "df.loc[(df[\"Parking\"]==0),\"Parking\"]=\"No\"\n",
        "df.loc[(df[\"Parking\"]==1),\"Parking\"]=\"Yes\"\n",
        "pd.crosstab(df.Parking,columns=df[\"Typologies of customers\"]). plot(kind=\"bar\",title=\"Figure 08. Relationship between customer type \\nand parking reservation\", stacked=True)\n"
      ],
      "execution_count": null,
      "outputs": [
        {
          "output_type": "execute_result",
          "data": {
            "text/plain": [
              "<matplotlib.axes._subplots.AxesSubplot at 0x7fb6b04a17f0>"
            ]
          },
          "metadata": {
            "tags": []
          },
          "execution_count": 55
        },
        {
          "output_type": "display_data",
          "data": {
            "image/png": "[encoded data removed]",
            "text/plain": [
              "<Figure size 432x288 with 1 Axes>"
            ]
          },
          "metadata": {
            "tags": [],
            "needs_background": "light"
          }
        }
      ]
    },
    {
      "cell_type": "code",
      "metadata": {
        "id": "Cls3p-5v1NZ8"
      },
      "source": [
        ""
      ],
      "execution_count": null,
      "outputs": []
    },
    {
      "cell_type": "markdown",
      "metadata": {
        "id": "nJ1d6qu5Woed"
      },
      "source": [
        "**PASO 8. RELACIÓN PERFIL USUARIO/MES RESERVA**\n",
        "#####Analizaremos qué epoca del año suele reservar cada tipología de cliente."
      ]
    },
    {
      "cell_type": "code",
      "metadata": {
        "id": "q5xCtrbgWzW6"
      },
      "source": [
        "df.rename(columns={\"month_new\":\"Name_of_month\"},inplace=True)\n"
      ],
      "execution_count": null,
      "outputs": []
    },
    {
      "cell_type": "code",
      "metadata": {
        "id": "kd2XyAVTXfOn",
        "outputId": "5466113b-8ae1-45f7-baf0-4217acc4d0e5",
        "colab": {
          "base_uri": "https://localhost:8080/",
          "height": 361
        }
      },
      "source": [
        "df [\"month_new\"]=df.arrival_date_month.astype(orden_meses)\n",
        "df.rename(columns={\"month_new\":\"Name_of_month\"},inplace=True)\n",
        "pd.crosstab(df.Name_of_month,columns=df[\"Typologies of customers\"]). plot(kind=\"bar\",title=\"Figure 09. Relationship between customer type \\nand month reservation\", stacked=True)"
      ],
      "execution_count": null,
      "outputs": [
        {
          "output_type": "execute_result",
          "data": {
            "text/plain": [
              "<matplotlib.axes._subplots.AxesSubplot at 0x7fb6b04177b8>"
            ]
          },
          "metadata": {
            "tags": []
          },
          "execution_count": 60
        },
        {
          "output_type": "display_data",
          "data": {
            "image/png": "[encoded data removed]",
            "text/plain": [
              "<Figure size 432x288 with 1 Axes>"
            ]
          },
          "metadata": {
            "tags": [],
            "needs_background": "light"
          }
        }
      ]
    },
    {
      "cell_type": "markdown",
      "metadata": {
        "id": "6Erfiyfv1Ba2"
      },
      "source": [
        "**PASO 9. RELACIÓN TIPO DE HOTEL CON CANCELACIÓN DE CLIENTE**"
      ]
    },
    {
      "cell_type": "markdown",
      "metadata": {
        "id": "lRw8XCaR1VTW"
      },
      "source": [
        "Por último, investigaremos si existe relación entre el tipo de hotel que escoge el cliente y las cancelaciones."
      ]
    },
    {
      "cell_type": "code",
      "metadata": {
        "id": "W2kyTCei1gME",
        "outputId": "4fc9c552-f11f-4527-bfb9-29b8e2663da4",
        "colab": {
          "base_uri": "https://localhost:8080/",
          "height": 367
        }
      },
      "source": [
        "pd.crosstab(df.hotel,columns=df[\"cancel\"]). plot(kind=\"bar\",title=\"Figure 10. Relationship between cancellations \\nand type of hotel\", stacked=True)"
      ],
      "execution_count": null,
      "outputs": [
        {
          "output_type": "execute_result",
          "data": {
            "text/plain": [
              "<matplotlib.axes._subplots.AxesSubplot at 0x7fb6ad12bef0>"
            ]
          },
          "metadata": {
            "tags": []
          },
          "execution_count": 64
        },
        {
          "output_type": "display_data",
          "data": {
            "image/png": "[encoded data removed]",
            "text/plain": [
              "<Figure size 432x288 with 1 Axes>"
            ]
          },
          "metadata": {
            "tags": [],
            "needs_background": "light"
          }
        }
      ]
    },
    {
      "cell_type": "code",
      "metadata": {
        "id": "aO5e-ALY1x6l",
        "outputId": "5be2dbda-03bd-4484-aa59-3fe085b81910",
        "colab": {
          "base_uri": "https://localhost:8080/",
          "height": 173
        }
      },
      "source": [
        "pd.crosstab(df.hotel,columns=df[\"cancel\"], margins=True).apply(lambda r: r/len(df) *100,\n",
        "                                axis=1)\n"
      ],
      "execution_count": null,
      "outputs": [
        {
          "output_type": "execute_result",
          "data": {
            "text/html": [
              "<div>\n",
              "<style scoped>\n",
              "    .dataframe tbody tr th:only-of-type {\n",
              "        vertical-align: middle;\n",
              "    }\n",
              "\n",
              "    .dataframe tbody tr th {\n",
              "        vertical-align: top;\n",
              "    }\n",
              "\n",
              "    .dataframe thead th {\n",
              "        text-align: right;\n",
              "    }\n",
              "</style>\n",
              "<table border=\"1\" class=\"dataframe\">\n",
              "  <thead>\n",
              "    <tr style=\"text-align: right;\">\n",
              "      <th>cancel</th>\n",
              "      <th>No</th>\n",
              "      <th>Yes</th>\n",
              "      <th>All</th>\n",
              "    </tr>\n",
              "    <tr>\n",
              "      <th>hotel</th>\n",
              "      <th></th>\n",
              "      <th></th>\n",
              "      <th></th>\n",
              "    </tr>\n",
              "  </thead>\n",
              "  <tbody>\n",
              "    <tr>\n",
              "      <th>City Hotel</th>\n",
              "      <td>38.720161</td>\n",
              "      <td>27.725940</td>\n",
              "      <td>66.446101</td>\n",
              "    </tr>\n",
              "    <tr>\n",
              "      <th>Resort Hotel</th>\n",
              "      <td>24.238211</td>\n",
              "      <td>9.315688</td>\n",
              "      <td>33.553899</td>\n",
              "    </tr>\n",
              "    <tr>\n",
              "      <th>All</th>\n",
              "      <td>62.958372</td>\n",
              "      <td>37.041628</td>\n",
              "      <td>100.000000</td>\n",
              "    </tr>\n",
              "  </tbody>\n",
              "</table>\n",
              "</div>"
            ],
            "text/plain": [
              "cancel               No        Yes         All\n",
              "hotel                                         \n",
              "City Hotel    38.720161  27.725940   66.446101\n",
              "Resort Hotel  24.238211   9.315688   33.553899\n",
              "All           62.958372  37.041628  100.000000"
            ]
          },
          "metadata": {
            "tags": []
          },
          "execution_count": 62
        }
      ]
    },
    {
      "cell_type": "code",
      "metadata": {
        "id": "j52wRYBR12bW"
      },
      "source": [
        ""
      ],
      "execution_count": null,
      "outputs": []
    }
  ]
}